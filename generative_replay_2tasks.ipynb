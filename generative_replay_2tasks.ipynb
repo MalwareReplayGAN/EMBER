{
  "cells": [
    {
      "cell_type": "markdown",
      "metadata": {
        "id": "Gzh8v-jf8ihv"
      },
      "source": [
        "2. We import all library needed for training and visualisation"
      ]
    },
    {
      "cell_type": "code",
      "execution_count": null,
      "metadata": {
        "id": "bkcYXgb9aRLV"
      },
      "outputs": [],
      "source": [
        "from os import path\n",
        "import torch\n",
        "import torch.nn as nn\n",
        "import torchvision.datasets as datasets\n",
        "import torchvision.transforms as transforms\n",
        "import torch.optim as optim\n",
        "import torch.nn.functional as F\n",
        "import numpy as np\n",
        "import matplotlib.pyplot as plt\n",
        "from torch.autograd import Variable\n",
        "from copy import deepcopy"
      ]
    },
    {
      "cell_type": "markdown",
      "metadata": {
        "id": "lePKqo_e8obk"
      },
      "source": [
        "3. We clone the continualAI repo ta get an easy to use data loader for mnist"
      ]
    },
    {
      "cell_type": "code",
      "execution_count": null,
      "metadata": {
        "colab": {
          "base_uri": "https://localhost:8080/"
        },
        "id": "H9JYmfPzaTCi",
        "outputId": "ac906335-cfb1-4cd9-c74c-4283509de0e5"
      },
      "outputs": [
        {
          "name": "stdout",
          "output_type": "stream",
          "text": [
            "Cloning into 'continualai/colab'...\n",
            "remote: Enumerating objects: 378, done.\u001b[K\n",
            "remote: Counting objects: 100% (120/120), done.\u001b[K\n",
            "remote: Compressing objects: 100% (58/58), done.\u001b[K\n",
            "remote: Total 378 (delta 78), reused 64 (delta 62), pack-reused 258\u001b[K\n",
            "Receiving objects: 100% (378/378), 26.97 MiB | 24.29 MiB/s, done.\n",
            "Resolving deltas: 100% (198/198), done.\n"
          ]
        }
      ],
      "source": [
        "!git clone https://github.com/ContinualAI/colab.git continualai/colab"
      ]
    },
    {
      "cell_type": "markdown",
      "metadata": {
        "id": "aIzKP9GU81TT"
      },
      "source": [
        "4. We import mnist and inialize it"
      ]
    },
    {
      "cell_type": "code",
      "execution_count": null,
      "metadata": {
        "colab": {
          "base_uri": "https://localhost:8080/"
        },
        "id": "192J3FHLa0nE",
        "outputId": "62a2308b-7525-4e9b-91f9-03acdc134ffe"
      },
      "outputs": [
        {
          "name": "stdout",
          "output_type": "stream",
          "text": [
            "Downloading train-images-idx3-ubyte.gz...\n",
            "Downloading t10k-images-idx3-ubyte.gz...\n",
            "Downloading train-labels-idx1-ubyte.gz...\n",
            "Downloading t10k-labels-idx1-ubyte.gz...\n",
            "Download complete.\n",
            "Save complete.\n",
            "Downloading https://ossci-datasets.s3.amazonaws.com/mnist/train-images-idx3-ubyte.gz\n",
            "Downloading https://ossci-datasets.s3.amazonaws.com/mnist/train-images-idx3-ubyte.gz to data/mnist/MNIST/raw/train-images-idx3-ubyte.gz\n"
          ]
        },
        {
          "name": "stderr",
          "output_type": "stream",
          "text": [
            "100%|██████████| 9912422/9912422 [00:00<00:00, 153756897.19it/s]\n"
          ]
        },
        {
          "name": "stdout",
          "output_type": "stream",
          "text": [
            "Extracting data/mnist/MNIST/raw/train-images-idx3-ubyte.gz to data/mnist/MNIST/raw\n",
            "\n",
            "Downloading https://ossci-datasets.s3.amazonaws.com/mnist/train-labels-idx1-ubyte.gz\n",
            "Downloading https://ossci-datasets.s3.amazonaws.com/mnist/train-labels-idx1-ubyte.gz to data/mnist/MNIST/raw/train-labels-idx1-ubyte.gz\n"
          ]
        },
        {
          "name": "stderr",
          "output_type": "stream",
          "text": [
            "100%|██████████| 28881/28881 [00:00<00:00, 17116814.16it/s]\n"
          ]
        },
        {
          "name": "stdout",
          "output_type": "stream",
          "text": [
            "Extracting data/mnist/MNIST/raw/train-labels-idx1-ubyte.gz to data/mnist/MNIST/raw\n",
            "\n",
            "Downloading https://ossci-datasets.s3.amazonaws.com/mnist/t10k-images-idx3-ubyte.gz\n",
            "Downloading https://ossci-datasets.s3.amazonaws.com/mnist/t10k-images-idx3-ubyte.gz to data/mnist/MNIST/raw/t10k-images-idx3-ubyte.gz\n"
          ]
        },
        {
          "name": "stderr",
          "output_type": "stream",
          "text": [
            "100%|██████████| 1648877/1648877 [00:00<00:00, 48845525.34it/s]"
          ]
        },
        {
          "name": "stdout",
          "output_type": "stream",
          "text": [
            "Extracting data/mnist/MNIST/raw/t10k-images-idx3-ubyte.gz to data/mnist/MNIST/raw\n"
          ]
        },
        {
          "name": "stderr",
          "output_type": "stream",
          "text": [
            "\n"
          ]
        },
        {
          "name": "stdout",
          "output_type": "stream",
          "text": [
            "\n",
            "Downloading https://ossci-datasets.s3.amazonaws.com/mnist/t10k-labels-idx1-ubyte.gz\n",
            "Downloading https://ossci-datasets.s3.amazonaws.com/mnist/t10k-labels-idx1-ubyte.gz to data/mnist/MNIST/raw/t10k-labels-idx1-ubyte.gz\n"
          ]
        },
        {
          "name": "stderr",
          "output_type": "stream",
          "text": [
            "100%|██████████| 4542/4542 [00:00<00:00, 4635165.15it/s]\n"
          ]
        },
        {
          "name": "stdout",
          "output_type": "stream",
          "text": [
            "Extracting data/mnist/MNIST/raw/t10k-labels-idx1-ubyte.gz to data/mnist/MNIST/raw\n",
            "\n"
          ]
        }
      ],
      "source": [
        "from continualai.colab.scripts import mnist\n",
        "mnist.init()"
      ]
    },
    {
      "cell_type": "markdown",
      "metadata": {
        "id": "JHdbAdK-8_xs"
      },
      "source": [
        "5. We can now load the data set and get training and testing data and labels"
      ]
    },
    {
      "cell_type": "code",
      "execution_count": null,
      "metadata": {
        "colab": {
          "base_uri": "https://localhost:8080/"
        },
        "id": "ec_SejbFa39O",
        "outputId": "a43ad8db-edd5-4978-8de5-b55f3db5257e"
      },
      "outputs": [
        {
          "name": "stdout",
          "output_type": "stream",
          "text": [
            "x_train dim and type:  (60000, 1, 28, 28) float32\n",
            "t_train dim and type:  (60000,) uint8\n",
            "x_test dim and type:  (10000, 1, 28, 28) float32\n",
            "t_test dim and type:  (10000,) uint8\n"
          ]
        }
      ],
      "source": [
        "x_train, t_train, x_test, t_test = mnist.load()\n",
        "\n",
        "print(\"x_train dim and type: \", x_train.shape, x_train.dtype)\n",
        "print(\"t_train dim and type: \", t_train.shape, t_train.dtype)\n",
        "print(\"x_test dim and type: \", x_test.shape, x_test.dtype)\n",
        "print(\"t_test dim and type: \", t_test.shape, t_test.dtype)"
      ]
    },
    {
      "cell_type": "markdown",
      "metadata": {
        "id": "V3bh6Gns9J4M"
      },
      "source": [
        "6. We set a flag to use cuda for GPU acceleration and we fix the seed for reproducibility purpose"
      ]
    },
    {
      "cell_type": "code",
      "execution_count": null,
      "metadata": {
        "id": "FbJnUx1Ma87D"
      },
      "outputs": [],
      "source": [
        "# switch to False to use CPU\n",
        "use_cuda = True\n",
        "\n",
        "use_cuda = use_cuda and torch.cuda.is_available()\n",
        "device = torch.device(\"cuda\" if use_cuda else \"cpu\");\n",
        "torch.manual_seed(1);"
      ]
    },
    {
      "cell_type": "markdown",
      "metadata": {
        "id": "RU9L7kJs9UX-"
      },
      "source": [
        "7. Creation of a generator. We will use a GAN to achieve Generative Replay."
      ]
    },
    {
      "cell_type": "code",
      "execution_count": null,
      "metadata": {
        "id": "-ZyVDR0TbM1a"
      },
      "outputs": [],
      "source": [
        "class Generator(nn.Module):\n",
        "    # Network Architecture is exactly same as in infoGAN (https://arxiv.org/abs/1606.03657)\n",
        "    # Architecture : FC1024_BR-FC7x7x128_BR-(64)4dc2s_BR-(1)4dc2s_S\n",
        "    def __init__(self):\n",
        "        super(Generator, self).__init__()\n",
        "\n",
        "        self.latent_dim = 1024\n",
        "        self.input_height = 28\n",
        "        self.input_width = 28\n",
        "        self.input_dim = 62\n",
        "        self.output_dim = 1\n",
        "\n",
        "        self.fc = nn.Sequential(\n",
        "            nn.Linear(self.input_dim, self.latent_dim),\n",
        "            nn.BatchNorm1d(self.latent_dim),\n",
        "            nn.ReLU(),\n",
        "            nn.Linear(self.latent_dim, 128 * (self.input_height // 4) * (self.input_width // 4)),\n",
        "            nn.BatchNorm1d(128 * (self.input_height // 4) * (self.input_width // 4)),\n",
        "            nn.ReLU(),\n",
        "        )\n",
        "        self.deconv = nn.Sequential(\n",
        "            nn.ConvTranspose2d(128, 64, 4, 2, 1),\n",
        "            nn.BatchNorm2d(64),\n",
        "            nn.ReLU(),\n",
        "            nn.ConvTranspose2d(64, self.output_dim, 4, 2, 1),\n",
        "            nn.Sigmoid(),\n",
        "        )\n",
        "\n",
        "        self.maxPool = nn.MaxPool2d((2, 2), stride=(2, 2))\n",
        "        self.Sigmoid = nn.Sigmoid()\n",
        "        self.apply(self.weights_init)\n",
        "\n",
        "    def reinit(self):\n",
        "      self.apply(self.weights_init)\n",
        "\n",
        "    def forward(self, input):\n",
        "        input = input.view(-1, self.input_dim)\n",
        "        x = self.fc(input)\n",
        "        x = x.view(-1, 128, (self.input_height // 4), (self.input_width // 4))\n",
        "        x = self.deconv(x)\n",
        "        return x\n",
        "\n",
        "    def weights_init(self, m):\n",
        "        classname = m.__class__.__name__\n",
        "        if classname.find('Conv') != -1:\n",
        "            m.weight.data.normal_(0.0, 0.02)\n",
        "        elif classname.find('BatchNorm') != -1:\n",
        "            m.weight.data.normal_(1.0, 0.02)\n",
        "            m.bias.data.fill_(0)"
      ]
    },
    {
      "cell_type": "markdown",
      "metadata": {
        "id": "sBQ3Emmz9pW_"
      },
      "source": [
        "7. Here is the Discriminator of our GAN"
      ]
    },
    {
      "cell_type": "code",
      "execution_count": null,
      "metadata": {
        "id": "g6EMu6RjcNMU"
      },
      "outputs": [],
      "source": [
        "class Discriminator(nn.Module):\n",
        "    # Network Architecture is exactly same as in infoGAN (https://arxiv.org/abs/1606.03657)\n",
        "    # Architecture : (64)4c2s-(128)4c2s_BL-FC1024_BL-FC1_S\n",
        "    def __init__(self):\n",
        "        super(Discriminator, self).__init__()\n",
        "        self.input_height = 28\n",
        "        self.input_width = 28\n",
        "        self.input_dim = 1\n",
        "        self.output_dim = 1\n",
        "\n",
        "        self.latent_dim = 1024\n",
        "\n",
        "        shape = 128 * (self.input_height // 4) * (self.input_width // 4)\n",
        "\n",
        "        self.fc1_1 = nn.Linear(784, self.latent_dim)\n",
        "        self.fc1_2 = nn.Linear(10, self.latent_dim)\n",
        "        self.fc2 = nn.Linear(self.latent_dim * 2, self.latent_dim // 2)\n",
        "        self.fc2_bn = nn.BatchNorm1d(self.latent_dim // 2)\n",
        "        self.fc3 = nn.Linear(self.latent_dim // 2, 256)\n",
        "        self.fc3_bn = nn.BatchNorm1d(256)\n",
        "        self.fc4 = nn.Linear(256, 1)\n",
        "\n",
        "        self.conv = nn.Sequential(\n",
        "            nn.Conv2d(self.input_dim, 64, 4, 2, 1),\n",
        "            nn.LeakyReLU(0.2),\n",
        "            nn.Conv2d(64, 128, 4, 2, 1),\n",
        "            nn.BatchNorm2d(128),\n",
        "            nn.LeakyReLU(0.2),\n",
        "        )\n",
        "        self.fc = nn.Sequential(\n",
        "            nn.Linear(shape, self.latent_dim),\n",
        "            nn.BatchNorm1d(self.latent_dim),\n",
        "            nn.LeakyReLU(0.2),\n",
        "            nn.Linear(self.latent_dim, self.output_dim),\n",
        "            nn.Sigmoid(),\n",
        "        )\n",
        "        self.aux_linear = nn.Linear(shape, 10)\n",
        "        self.softmax = nn.Softmax()\n",
        "        self.apply(self.weights_init)\n",
        "\n",
        "    def reinit(self):\n",
        "      self.apply(self.weights_init)\n",
        "\n",
        "    def weights_init(self, m):\n",
        "        classname = m.__class__.__name__\n",
        "        if classname.find('Conv') != -1:\n",
        "            m.weight.data.normal_(0.0, 0.02)\n",
        "        elif classname.find('BatchNorm') != -1:\n",
        "            m.weight.data.normal_(1.0, 0.02)\n",
        "            m.bias.data.fill_(0)\n",
        "\n",
        "    def forward(self, input):\n",
        "        x = self.conv(input)\n",
        "        x = x.view(x.data.shape[0], 128 * (self.input_height // 4) * (self.input_width // 4))\n",
        "        return self.fc(x)"
      ]
    },
    {
      "cell_type": "markdown",
      "metadata": {
        "id": "zeIrEez73O4e"
      },
      "source": [
        "분류기"
      ]
    },
    {
      "cell_type": "code",
      "execution_count": null,
      "metadata": {
        "id": "ELP9awvc6ERP"
      },
      "outputs": [],
      "source": [
        "class Classifier(nn.Module):\n",
        "    def __init__(self):\n",
        "        super(Classifier, self).__init__()\n",
        "\n",
        "        self.input_height = 28\n",
        "        self.input_width = 28\n",
        "        self.input_dim = 1\n",
        "        self.output_dim = 10\n",
        "        self.batchsize = 64\n",
        "        self.drop_prob = 0.3\n",
        "\n",
        "        self.conv = nn.Sequential(\n",
        "            nn.Conv2d(self.input_dim, self.batchsize, kernel_size=3, stride=1, padding=1),\n",
        "            nn.ReLU(),\n",
        "            nn.BatchNorm2d(64),\n",
        "            nn.Dropout(self.drop_prob),\n",
        "            nn.Flatten())\n",
        "        self.fc = nn.Linear(self.batchsize * self.input_height * self.input_width, self.output_dim)\n",
        "\n",
        "    def forward(self, x):\n",
        "        x = x.view(-1, 1, self.input_height, self.input_width)\n",
        "        x = self.conv(x)\n",
        "        x = self.fc(x)\n",
        "        return x\n",
        "\n",
        "    def predict(self, x_data):\n",
        "        z=self.forward(x_data)\n",
        "        return torch.argmax(z,axis=1) #가장 큰 인덱스 리턴"
      ]
    },
    {
      "cell_type": "markdown",
      "metadata": {
        "id": "wT1xKrgw9vQS"
      },
      "source": [
        "8. The function get_iter_dataset makes possible to load data from only one particular class. It will help to load data class by class."
      ]
    },
    {
      "cell_type": "code",
      "execution_count": null,
      "metadata": {
        "id": "LmzvXxzHcrGp"
      },
      "outputs": [],
      "source": [
        "# function to get digits from only one class\n",
        "def get_iter_dataset(x_train, t_train, classe=None):\n",
        "    if classe is not None or classe+1 is not None:\n",
        "        selected_indices = np.where((t_train == classe) | (t_train == classe + 1))[0]\n",
        "        x = x_train[selected_indices]\n",
        "        t = t_train[selected_indices]\n",
        "        return x, t"
      ]
    },
    {
      "cell_type": "markdown",
      "metadata": {
        "id": "FkFgz_Vg9-Qz"
      },
      "source": [
        "### 9. The function \"run_batch\" train the Generator and Discriminator one a particular batch of data."
      ]
    },
    {
      "cell_type": "code",
      "execution_count": null,
      "metadata": {
        "id": "MeBNcBSqvqUM"
      },
      "outputs": [],
      "source": [
        "def run_batch(G, D, C, G_optimizer, D_optimizer, C_optimizer, x_, t_):\n",
        "      x_ = x_.view((-1, 1, 28, 28))\n",
        "\n",
        "      # y_real and y_fake are the label for fake and true data\n",
        "      y_real_ = Variable(torch.ones(x_.size(0), 1))\n",
        "      y_fake_ = Variable(torch.zeros(x_.size(0), 1))\n",
        "\n",
        "      if use_cuda:\n",
        "        y_real_, y_fake_ = y_real_.cuda(0), y_fake_.cuda(0)\n",
        "\n",
        "      z_ = torch.rand((x_.size(0), z_dim))\n",
        "\n",
        "      x_, z_ = Variable(x_), Variable(z_)\n",
        "\n",
        "      if use_cuda:\n",
        "        x_, z_, t_ = x_.cuda(0), z_.cuda(0), t_.cuda(0)\n",
        "\n",
        "      # update D network\n",
        "      D_optimizer.zero_grad()\n",
        "\n",
        "      D_real = D(x_)\n",
        "      D_real_loss = BCELoss(D_real, y_real_[:x_.size(0)])\n",
        "\n",
        "      G_ = G(z_)\n",
        "      D_fake = D(G_)\n",
        "      D_fake_loss = BCELoss(D_fake, y_fake_[:x_.size(0)])\n",
        "\n",
        "      D_loss = D_real_loss + D_fake_loss\n",
        "\n",
        "      D_loss.backward()\n",
        "      D_optimizer.step()\n",
        "\n",
        "      # update G network\n",
        "      G_optimizer.zero_grad()\n",
        "\n",
        "      G_ = G(z_)\n",
        "      D_fake = D(G_)\n",
        "      G_loss = BCELoss(D_fake, y_real_[:x_.size(0)])\n",
        "\n",
        "      G_loss.backward()\n",
        "      G_optimizer.step()\n",
        "\n",
        "      # update C\n",
        "\n",
        "      C_optimizer.zero_grad()\n",
        "\n",
        "      output = C(x_)\n",
        "\n",
        "      C_loss = criterion(output, t_)\n",
        "\n",
        "      C_loss.backward()\n",
        "      C_optimizer.step()\n",
        "\n",
        "      return output"
      ]
    },
    {
      "cell_type": "code",
      "execution_count": null,
      "metadata": {
        "id": "I_3so87yxYX6"
      },
      "outputs": [],
      "source": [
        "#Declarations and Hyper-parameters\n",
        "\n",
        "# Training hyper-parameter\n",
        "nb_task = 10  # change this to 10 if you want the experiment of the full 10 classes setting\n",
        "nb_inc = 2\n",
        "batch_size = 128\n",
        "lr = 0.00005\n",
        "z_dim = 62\n",
        "epoch_number = 50\n",
        "nb_samples = 10\n",
        "\n",
        "G = Generator()\n",
        "D = Discriminator()\n",
        "C = Classifier()\n",
        "\n",
        "# G and D are put in train mode\n",
        "G.train()\n",
        "D.train()\n",
        "C.train()\n",
        "\n",
        "if use_cuda:\n",
        "  G.cuda(0)\n",
        "  D.cuda(0)\n",
        "  C.cuda(0)\n",
        "\n",
        "# Use of Adam optimizer\n",
        "G_optimizer = optim.Adam(G.parameters(), lr=lr)\n",
        "D_optimizer = optim.Adam(D.parameters(), lr=lr)\n",
        "C_optimizer = optim.Adam(C.parameters(), lr=lr)\n",
        "\n",
        "criterion = nn.CrossEntropyLoss()\n",
        "BCELoss = nn.BCELoss()"
      ]
    },
    {
      "cell_type": "markdown",
      "metadata": {
        "id": "PmJPlExp--5A"
      },
      "source": [
        "10. This function help to generate replayed data from the GAN use as memory (Gt-1)"
      ]
    },
    {
      "cell_type": "code",
      "execution_count": null,
      "metadata": {
        "id": "yBYJfzOghpAo"
      },
      "outputs": [],
      "source": [
        "def get_replay_with_label(generator, classifier, batchsize, task, split):\n",
        "    images_list = []\n",
        "    labels_list = []\n",
        "    task_label = [[] for _ in range(task*split)]\n",
        "\n",
        "    while True:\n",
        "        if all(len(r) >= batchsize for r in task_label):\n",
        "            break\n",
        "        z_ = Variable(torch.rand((batchsize, z_dim)))\n",
        "\n",
        "        if use_cuda:\n",
        "            z_ = z_.cuda(0)\n",
        "\n",
        "        images = generator(z_)\n",
        "        labels = classifier.predict(images)\n",
        "\n",
        "        for i in range(len(labels)):\n",
        "            label = labels[i]\n",
        "            if len(task_label[label]) < batchsize:\n",
        "                images_list.append(images[i].unsqueeze(0))\n",
        "                labels_list.append(label.item())\n",
        "                task_label[label].append(label.item())\n",
        "\n",
        "    images = torch.cat(images_list, dim=0)\n",
        "    labels = torch.tensor(labels_list)\n",
        "\n",
        "    return images.cpu(), labels.cpu()"
      ]
    },
    {
      "cell_type": "markdown",
      "metadata": {
        "id": "ErM-LpqUyjgs"
      },
      "source": [
        "###Training Generator with Replay\n",
        "\n",
        "After seeing what happend when training without Generative Replay, we can now see how efficient generative replay is in this setting."
      ]
    },
    {
      "cell_type": "code",
      "execution_count": null,
      "metadata": {
        "colab": {
          "base_uri": "https://localhost:8080/",
          "height": 420
        },
        "id": "aDAtAd8W8Mo2",
        "outputId": "e0fbd057-25ca-41f2-bd3d-25f5e7c487d3"
      },
      "outputs": [
        {
          "name": "stdout",
          "output_type": "stream",
          "text": [
            "tensor([0, 1, 0, 0, 0, 1, 1, 0, 1, 0], device='cuda:0')\n",
            "tensor([0, 2, 0, 0, 1, 0, 1, 3, 1, 3], device='cuda:0')\n",
            "tensor([0, 5, 0, 1, 5, 3, 1, 2, 5, 2], device='cuda:0')\n",
            "tensor([2, 1, 2, 1, 0, 2, 5, 0, 4, 5], device='cuda:0')\n",
            "tensor([5, 5, 2, 5, 6, 0, 3, 7, 4, 4], device='cuda:0')\n"
          ]
        },
        {
          "data": {
            "image/png": "[encoded data removed]",
            "text/plain": [
              "<Figure size 640x480 with 10 Axes>"
            ]
          },
          "metadata": {},
          "output_type": "display_data"
        },
        {
          "data": {
            "image/png": "[encoded data removed]",
            "text/plain": [
              "<Figure size 640x480 with 10 Axes>"
            ]
          },
          "metadata": {},
          "output_type": "display_data"
        },
        {
          "data": {
            "image/png": "[encoded data removed]",
            "text/plain": [
              "<Figure size 640x480 with 10 Axes>"
            ]
          },
          "metadata": {},
          "output_type": "display_data"
        },
        {
          "data": {
            "image/png": "[encoded data removed]",
            "text/plain": [
              "<Figure size 640x480 with 10 Axes>"
            ]
          },
          "metadata": {},
          "output_type": "display_data"
        },
        {
          "data": {
            "image/png": "[encoded data removed]",
            "text/plain": [
              "<Figure size 640x480 with 10 Axes>"
            ]
          },
          "metadata": {},
          "output_type": "display_data"
        }
      ],
      "source": [
        "# We reinit D and G to not cheat\n",
        "G.reinit()\n",
        "D.reinit()\n",
        "\n",
        "for task in range(int(nb_task/nb_inc)):\n",
        "\n",
        "  data, label = get_iter_dataset(x_train, t_train, classe=task*nb_inc)\n",
        "  nb_batch = int(len(data)/batch_size)\n",
        "\n",
        "  for epoch in range(epoch_number):\n",
        "    for index in range(nb_batch):\n",
        "      x_ = torch.FloatTensor(data[index*batch_size:(index+1)*batch_size])\n",
        "      t_ = torch.tensor(label[index*batch_size:(index+1)*batch_size])\n",
        "\n",
        "      if task > 0 :\n",
        "        # We concat a batch of previously learned data\n",
        "        # the more there is past task more data need to be regenerate\n",
        "        replay, re_label = get_replay_with_label(G_saved, C_saved, batch_size, task, nb_inc)\n",
        "        x_=torch.cat((x_,replay),0)\n",
        "        t_=torch.cat((t_,re_label),0)\n",
        "\n",
        "      run_batch(G, D, C, G_optimizer, D_optimizer, C_optimizer, x_, t_)\n",
        "\n",
        "  G_saved = deepcopy(G)\n",
        "  C_saved = deepcopy(C)\n",
        "\n",
        "  z_ = Variable(torch.rand((nb_samples, z_dim)))\n",
        "\n",
        "  if use_cuda:\n",
        "    z_ = z_.cuda(0)\n",
        "  samples = G(z_).data\n",
        "  samples = samples.cpu().numpy()\n",
        "  #plt.plot(samples[0])\n",
        "\n",
        "  f, axarr = plt.subplots(1,nb_samples)\n",
        "  for j in range(nb_samples):\n",
        "    axarr[j].imshow(samples[j, 0], cmap=\"gray\")\n",
        "  np.vectorize(lambda ax:ax.axis('off'))(axarr);\n",
        "\n",
        "  samples_tensor = torch.FloatTensor(samples)\n",
        "  if use_cuda:\n",
        "    samples_tensor = samples_tensor.cuda()\n",
        "\n",
        "  predictions = C.predict(samples_tensor)\n",
        "\n",
        "  print(predictions)"
      ]
    },
    {
      "cell_type": "markdown",
      "metadata": {
        "id": "s584hqJW5g2b"
      },
      "source": [
        "학습한 거 사진 어떻게 나오나 + 라벨 보고 싶으면 아래 두 코드만 반복하면 됩니다!"
      ]
    },
    {
      "cell_type": "code",
      "execution_count": null,
      "metadata": {
        "colab": {
          "base_uri": "https://localhost:8080/",
          "height": 79
        },
        "id": "S7kyJe3l3Axe",
        "outputId": "a1bcc79a-58f0-4d92-cdcd-433df54d2c51"
      },
      "outputs": [
        {
          "data": {
            "image/png": "[encoded data removed]",
            "text/plain": [
              "<Figure size 640x480 with 10 Axes>"
            ]
          },
          "metadata": {},
          "output_type": "display_data"
        }
      ],
      "source": [
        "z_ = Variable(torch.rand((nb_samples, z_dim)))\n",
        "if use_cuda:\n",
        "  z_ = z_.cuda(0)\n",
        "samples = G(z_).data\n",
        "samples = samples.cpu().numpy()\n",
        "#plt.plot(samples[0])\n",
        "\n",
        "f, axarr = plt.subplots(1,nb_samples)\n",
        "for j in range(nb_samples):\n",
        "  axarr[j].imshow(samples[j, 0], cmap=\"gray\")\n",
        "np.vectorize(lambda ax:ax.axis('off'))(axarr);"
      ]
    },
    {
      "cell_type": "code",
      "execution_count": null,
      "metadata": {
        "colab": {
          "base_uri": "https://localhost:8080/"
        },
        "id": "Tj-0NAbL2eQt",
        "outputId": "afe3b988-f9d7-4b5a-9b62-709ce6411ec9"
      },
      "outputs": [
        {
          "name": "stdout",
          "output_type": "stream",
          "text": [
            "tensor([8, 6, 9, 3, 7, 6, 7, 5, 1, 3], device='cuda:0')\n"
          ]
        }
      ],
      "source": [
        "samples_tensor = torch.FloatTensor(samples)\n",
        "\n",
        "samples_tensor = samples_tensor.view(-1, 1, 28, 28)\n",
        "\n",
        "if use_cuda:\n",
        "    samples_tensor = samples_tensor.cuda()\n",
        "\n",
        "predictions = C.predict(samples_tensor)\n",
        "\n",
        "print(predictions)"
      ]
    },
    {
      "cell_type": "markdown",
      "metadata": {
        "id": "aMegBhP55oYz"
      },
      "source": [
        "정확도"
      ]
    },
    {
      "cell_type": "code",
      "execution_count": null,
      "metadata": {
        "id": "Hv80HrHR4fpM"
      },
      "outputs": [],
      "source": [
        "def test(model, x_test, y_test):\n",
        "\n",
        "    x_test = torch.FloatTensor(x_test)\n",
        "    y_test = torch.LongTensor(y_test)\n",
        "\n",
        "\n",
        "    if use_cuda:\n",
        "        x_test = x_test.cuda()\n",
        "        y_test = y_test.cuda()\n",
        "\n",
        "    prediction = model(x_test)\n",
        "    predicted_classes = prediction.max(1)[1]\n",
        "    correct_count = (predicted_classes == y_test).sum().item()\n",
        "    cost = F.cross_entropy(prediction, y_test)\n",
        "\n",
        "    print('Accuracy: {}% Cost: {:.6f}'.format(\n",
        "        correct_count / len(y_test) * 100, cost.item()\n",
        "    ))"
      ]
    },
    {
      "cell_type": "code",
      "execution_count": null,
      "metadata": {
        "colab": {
          "base_uri": "https://localhost:8080/"
        },
        "id": "Z6KXOtnw4kLD",
        "outputId": "2bcf058d-8416-4bd5-84ca-5497b7fe1cad"
      },
      "outputs": [
        {
          "name": "stdout",
          "output_type": "stream",
          "text": [
            "Accuracy: 96.78999999999999% Cost: 0.146216\n"
          ]
        }
      ],
      "source": [
        "test(C, x_test, t_test)"
      ]
    },
    {
      "cell_type": "markdown",
      "metadata": {
        "id": "EirditOfoPC4"
      },
      "source": [
        "비교용 분류기"
      ]
    },
    {
      "cell_type": "code",
      "execution_count": null,
      "metadata": {
        "id": "ERPRJ0UFoOjA"
      },
      "outputs": [],
      "source": [
        "class Classifier_test(nn.Module):\n",
        "    def __init__(self):\n",
        "        super(Classifier_test, self).__init__()\n",
        "\n",
        "        self.input_height = 28\n",
        "        self.input_width = 28\n",
        "        self.input_dim = 1\n",
        "        self.output_dim = 10\n",
        "        self.batchsize = 64\n",
        "        self.drop_prob = 0.3\n",
        "\n",
        "        self.conv = nn.Sequential(\n",
        "            nn.Conv2d(self.input_dim, self.batchsize, kernel_size=3, stride=1, padding=1),\n",
        "            nn.ReLU(),\n",
        "            nn.BatchNorm2d(64),\n",
        "            nn.Dropout(self.drop_prob),\n",
        "            nn.Flatten())\n",
        "        self.fc = nn.Linear(self.batchsize * self.input_height * self.input_width, self.output_dim)\n",
        "\n",
        "    def forward(self, x):\n",
        "        x = x.view(-1, 1, self.input_height, self.input_width)\n",
        "        x = self.conv(x)\n",
        "        x = self.fc(x)\n",
        "        return x\n",
        "\n",
        "    def predict(self, x_data):\n",
        "        z=self.forward(x_data)\n",
        "        return torch.argmax(z,axis=1) #가장 큰 인덱스 리턴"
      ]
    },
    {
      "cell_type": "code",
      "execution_count": null,
      "metadata": {
        "id": "AJI5eZJspjdX"
      },
      "outputs": [],
      "source": [
        "model_test = Classifier_test()\n",
        "criterion_test = nn.CrossEntropyLoss()\n",
        "C_optimizer_test = optim.Adam(model_test.parameters(), lr=lr)"
      ]
    },
    {
      "cell_type": "code",
      "execution_count": null,
      "metadata": {
        "id": "4uXRA5IcqW7g"
      },
      "outputs": [],
      "source": [
        "x_train_t = torch.tensor(x_train, dtype=torch.float32)\n",
        "t_train_t = torch.tensor(t_train, dtype=torch.long)\n",
        "\n",
        "train_dataset = torch.utils.data.TensorDataset(x_train_t, t_train_t)\n",
        "train_loader = torch.utils.data.DataLoader(train_dataset, batch_size, shuffle=True)\n"
      ]
    },
    {
      "cell_type": "code",
      "execution_count": null,
      "metadata": {
        "colab": {
          "background_save": true
        },
        "id": "v_scxUpKpoEw"
      },
      "outputs": [],
      "source": [
        "for epoch in range(epoch_number):\n",
        "    model_test.train()\n",
        "    for i, (inputs, labels) in enumerate(train_loader):\n",
        "        C_optimizer_test.zero_grad()\n",
        "        outputs = model_test(inputs)\n",
        "        loss_t = criterion_test(outputs, labels)\n",
        "        loss_t.backward()\n",
        "        C_optimizer_test.step()"
      ]
    },
    {
      "cell_type": "code",
      "execution_count": null,
      "metadata": {
        "colab": {
          "background_save": true
        },
        "id": "JRoKTZd8t5Zf"
      },
      "outputs": [],
      "source": [
        "def test_t(model, x_test, y_test):\n",
        "\n",
        "    x_test = torch.FloatTensor(x_test)\n",
        "    y_test = torch.LongTensor(y_test)\n",
        "\n",
        "    prediction = model(x_test)\n",
        "    predicted_classes = prediction.max(1)[1]\n",
        "    correct_count = (predicted_classes == y_test).sum().item()\n",
        "    cost = F.cross_entropy(prediction, y_test)\n",
        "\n",
        "    print('Accuracy: {}% Cost: {:.6f}'.format(\n",
        "        correct_count / len(y_test) * 100, cost.item()\n",
        "    ))"
      ]
    },
    {
      "cell_type": "code",
      "execution_count": null,
      "metadata": {
        "colab": {
          "background_save": true
        },
        "id": "eyCO8CkRrXw_",
        "outputId": "35430e42-9395-4e28-be2c-f67e8a407d6a"
      },
      "outputs": [
        {
          "name": "stdout",
          "output_type": "stream",
          "text": [
            "Accuracy: 97.86% Cost: 0.108414\n"
          ]
        }
      ],
      "source": [
        "test_t(model_test, x_test, t_test)"
      ]
    },
    {
      "cell_type": "code",
      "execution_count": null,
      "metadata": {
        "id": "7CFqEzNwtmnW"
      },
      "outputs": [],
      "source": []
    }
  ],
  "metadata": {
    "accelerator": "GPU",
    "colab": {
      "provenance": []
    },
    "kernelspec": {
      "display_name": "Python 3",
      "name": "python3"
    }
  },
  "nbformat": 4,
  "nbformat_minor": 0
}